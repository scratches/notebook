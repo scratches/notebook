{
 "cells": [
  {
   "cell_type": "markdown",
   "metadata": {},
   "source": [
    "Start the  IDE:\n",
    "\n",
    "```\n",
    "nix-shell\n",
    "code .\n",
    "```\n",
    "\n",
    "Then have a look at the output from a `curl` command."
   ]
  },
  {
   "cell_type": "code",
   "execution_count": 29,
   "metadata": {},
   "outputs": [
    {
     "name": "stdout",
     "output_type": "stream",
     "text": [
      "{\n",
      "  \"args\": {}, \n",
      "  \"headers\": {\n",
      "    \"Accept\": \"*/*\", \n",
      "    \"Host\": \"httpbin.org\", \n",
      "    \"User-Agent\": \"curl/7.68.0\", \n",
      "    \"X-Amzn-Trace-Id\": \"Root=1-61fa462e-2dae841071a7bd19231dab3e\"\n",
      "  }, \n",
      "  \"origin\": \"86.19.94.164\", \n",
      "  \"url\": \"http://httpbin.org/get\"\n",
      "}\n"
     ]
    },
    {
     "name": "stderr",
     "output_type": "stream",
     "text": [
      "  % Total    % Received % Xferd  Average Speed   Time    Time     Time  Current\n",
      "                                 Dload  Upload   Total   Spent    Left  Speed\n",
      "  0     0    0     0    0     0      0      0 --:--:-- --:--:-- --:--:--     0*   Trying 35.171.190.227:80...\n",
      "* TCP_NODELAY set\n",
      "* Connected to httpbin.org (35.171.190.227) port 80 (#0)\n",
      "> GET /get HTTP/1.1\n",
      "> Host: httpbin.org\n",
      "> User-Agent: curl/7.68.0\n",
      "> Accept: */*\n",
      "> \n",
      "* Mark bundle as not supporting multiuse\n",
      "< HTTP/1.1 200 OK\n",
      "< Date: Wed, 02 Feb 2022 08:51:58 GMT\n",
      "< Content-Type: application/json\n",
      "< Content-Length: 253\n",
      "< Connection: keep-alive\n",
      "< Server: gunicorn/19.9.0\n",
      "< Access-Control-Allow-Origin: *\n",
      "< Access-Control-Allow-Credentials: true\n",
      "< \n",
      "{ [253 bytes data]\n",
      "100   253  100   253    0     0    577      0 --:--:-- --:--:-- --:--:--   576\n",
      "* Connection #0 to host httpbin.org left intact\n"
     ]
    }
   ],
   "source": [
    "%%bash\n",
    "curl -v httpbin.org/get"
   ]
  },
  {
   "cell_type": "code",
   "execution_count": 26,
   "metadata": {},
   "outputs": [
    {
     "name": "stdout",
     "output_type": "stream",
     "text": [
      "env: FOO=bar\n"
     ]
    }
   ],
   "source": [
    "%env FOO bar"
   ]
  },
  {
   "cell_type": "markdown",
   "metadata": {},
   "source": []
  },
  {
   "cell_type": "code",
   "execution_count": 27,
   "metadata": {},
   "outputs": [
    {
     "name": "stdout",
     "output_type": "stream",
     "text": [
      "FOO=bar\n"
     ]
    }
   ],
   "source": [
    "%%bash\n",
    "env | grep FOO || true"
   ]
  },
  {
   "cell_type": "code",
   "execution_count": 12,
   "metadata": {},
   "outputs": [],
   "source": [
    "import matplotlib.pyplot as plt\n",
    "import numpy as np"
   ]
  },
  {
   "cell_type": "code",
   "execution_count": 14,
   "metadata": {},
   "outputs": [
    {
     "name": "stdout",
     "output_type": "stream",
     "text": [
      "setting up X\n",
      "step: constructing y-data\n",
      "step: display info about y\n",
      "okay, I'm done now\n"
     ]
    },
    {
     "data": {
      "image/png": "[encoded data removed]",
      "text/plain": [
       "<Figure size 432x288 with 1 Axes>"
      ]
     },
     "metadata": {
      "needs_background": "light"
     },
     "output_type": "display_data"
    }
   ],
   "source": [
    "print(\"setting up X\")\n",
    "x = np.linspace(0,5,1000)\n",
    "print(\"step: constructing y-data\")\n",
    "y = np.sin(x)\n",
    "print(\"step: display info about y\")\n",
    "plt.plot(x,y)\n",
    "print(\"okay, I'm done now\")"
   ]
  }
 ],
 "metadata": {
  "interpreter": {
   "hash": "f639559417df3db563eeb8595cfa5b0bf0e9a2cb52904ba01798255df883a846"
  },
  "kernelspec": {
   "display_name": "Python 3.9.6 64-bit",
   "name": "python3"
  },
  "language_info": {
   "codemirror_mode": {
    "name": "ipython",
    "version": 3
   },
   "file_extension": ".py",
   "mimetype": "text/x-python",
   "name": "python",
   "nbconvert_exporter": "python",
   "pygments_lexer": "ipython3",
   "version": "3.9.6"
  },
  "orig_nbformat": 4
 },
 "nbformat": 4,
 "nbformat_minor": 2
}
